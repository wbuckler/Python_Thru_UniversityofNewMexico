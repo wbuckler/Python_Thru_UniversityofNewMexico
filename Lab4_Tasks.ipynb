{
 "cells": [
  {
   "cell_type": "markdown",
   "metadata": {},
   "source": [
    "# Lab4 Geometric Objects\n",
    "----------------------------------"
   ]
  },
  {
   "cell_type": "markdown",
   "metadata": {},
   "source": [
    "## Task 1"
   ]
  },
  {
   "cell_type": "markdown",
   "metadata": {},
   "source": [
    "Use shapely to create points and access attributes and functions."
   ]
  },
  {
   "cell_type": "code",
   "execution_count": 8,
   "metadata": {},
   "outputs": [
    {
     "name": "stdout",
     "output_type": "stream",
     "text": [
      "POINT (2.2 4.2)\n"
     ]
    }
   ],
   "source": [
    "# Import necessary geometric objects from shapely module\n",
    "from shapely.geometry import LineString\n",
    "from shapely.geometry import Point\n",
    "# Create 3 point geometric objects with random coordinates\n",
    "# using Point()\n",
    "point1 = Point(2.2, 4.2)\n",
    "point2 = Point(7.2,-25.1)\n",
    "point3 = Point(9.26,-2.456)\n",
    "point3D = Point(9.26,-2.456, 0.57)\n",
    "print(point1)\n"
   ]
  },
  {
   "cell_type": "code",
   "execution_count": null,
   "metadata": {
    "collapsed": true
   },
   "outputs": [],
   "source": [
    "#create a list of all the x coordinates of the 3 points\n",
    "#hint, using .x\n",
    "xlist = [point1.x, point2.x, point3.x]\n",
    "xlist"
   ]
  },
  {
   "cell_type": "code",
   "execution_count": null,
   "metadata": {
    "collapsed": true
   },
   "outputs": [],
   "source": [
    "#calculate the distances between any two pairs of points\n",
    "#using distance() function.\n",
    "dist12 = point1.distance(point2)\n",
    "dist23 =\n",
    "dist31 ="
   ]
  },
  {
   "cell_type": "markdown",
   "metadata": {},
   "source": [
    "## Task 2"
   ]
  },
  {
   "cell_type": "markdown",
   "metadata": {},
   "source": [
    "Use shapely to create lines and access attributes and functions."
   ]
  },
  {
   "cell_type": "code",
   "execution_count": 7,
   "metadata": {},
   "outputs": [
    {
     "name": "stdout",
     "output_type": "stream",
     "text": [
      "LINESTRING (2.2 4.2, 7.2 -25.1, 9.26 -2.456)\n"
     ]
    }
   ],
   "source": [
    "# Import necessary geometric objects from shapely module\n",
    "from shapely.geometry import LineString\n",
    "from shapely.geometry import Point\n",
    "# Create a Z-shape LineString from use coordinate tuples\n",
    "# you can use any coordinates.\n",
    "point1 = Point(2.2, 4.2)\n",
    "point2 = Point(7.2,-25.1)\n",
    "point3 = Point(9.26,-2.456)\n",
    "line = LineString([point1,point2,point3])\n",
    "print line"
   ]
  },
  {
   "cell_type": "code",
   "execution_count": null,
   "metadata": {
    "collapsed": true
   },
   "outputs": [],
   "source": [
    "# Get the y-coordiantes of the linestring using .xy[?]\n",
    "yonly = [point1.xy[1],point2.xy[1],point3.xy[1]]"
   ]
  },
  {
   "cell_type": "code",
   "execution_count": null,
   "metadata": {
    "collapsed": true
   },
   "outputs": [],
   "source": [
    "# Get the centroid and length of the line and print out.\n",
    "\n"
   ]
  },
  {
   "cell_type": "markdown",
   "metadata": {},
   "source": [
    "## Task 3"
   ]
  },
  {
   "cell_type": "markdown",
   "metadata": {},
   "source": [
    "Use shapely to create polygon and access attributes and functions."
   ]
  },
  {
   "cell_type": "code",
   "execution_count": 15,
   "metadata": {},
   "outputs": [
    {
     "data": {
      "image/svg+xml": [
       "<svg xmlns=\"http://www.w3.org/2000/svg\" xmlns:xlink=\"http://www.w3.org/1999/xlink\" width=\"100.0\" height=\"100.0\" viewBox=\"-0.12 -0.12 3.24 3.24\" preserveAspectRatio=\"xMinYMin meet\"><g transform=\"matrix(1,0,0,-1,0,3.0)\"><path fill-rule=\"evenodd\" fill=\"#66cc99\" stroke=\"#555555\" stroke-width=\"0.0648\" opacity=\"0.6\" d=\"M 0.0,0.0 L 3.0,0.0 L 3.0,3.0 L 0.0,3.0 L 0.0,0.0 z\" /></g></svg>"
      ],
      "text/plain": [
       "<shapely.geometry.polygon.Polygon at 0x4bfe950>"
      ]
     },
     "execution_count": 15,
     "metadata": {},
     "output_type": "execute_result"
    }
   ],
   "source": [
    "# Import necessary geometric objects from shapely module\n",
    "from shapely.geometry import Polygon\n",
    "# Create a Polygon poly1 from the coordinates \n",
    "# [(0, 0), (3, 0), (3, 3),(0, 3)]\n",
    "poly1 = [(0,0),(3,0),(3,3),(0,3)]\n",
    "polygon1 = Polygon(shell=poly1)\n",
    "polygon1"
   ]
  },
  {
   "cell_type": "code",
   "execution_count": 16,
   "metadata": {},
   "outputs": [
    {
     "data": {
      "image/svg+xml": [
       "<svg xmlns=\"http://www.w3.org/2000/svg\" xmlns:xlink=\"http://www.w3.org/1999/xlink\" width=\"100.0\" height=\"100.0\" viewBox=\"0.96 0.96 1.08 1.08\" preserveAspectRatio=\"xMinYMin meet\"><g transform=\"matrix(1,0,0,-1,0,3.0)\"><path fill-rule=\"evenodd\" fill=\"#66cc99\" stroke=\"#555555\" stroke-width=\"0.0216\" opacity=\"0.6\" d=\"M 1.0,1.0 L 2.0,1.0 L 1.5,2.0 L 1.0,1.0 z\" /></g></svg>"
      ],
      "text/plain": [
       "<shapely.geometry.polygon.Polygon at 0x4bfedf0>"
      ]
     },
     "execution_count": 16,
     "metadata": {},
     "output_type": "execute_result"
    }
   ],
   "source": [
    "# Create another Polygon poly2 from the coordinates \n",
    "# [(1, 1), (2, 1), (1.5, 2)]\n",
    "poly2 = [(1, 1), (2, 1), (1.5, 2)]\n",
    "polygon2 = Polygon(shell=poly2)\n",
    "polygon2"
   ]
  },
  {
   "cell_type": "code",
   "execution_count": 25,
   "metadata": {},
   "outputs": [
    {
     "ename": "SyntaxError",
     "evalue": "invalid syntax (<ipython-input-25-665a5be4a9f3>, line 3)",
     "output_type": "error",
     "traceback": [
      "\u001b[1;36m  File \u001b[1;32m\"<ipython-input-25-665a5be4a9f3>\"\u001b[1;36m, line \u001b[1;32m3\u001b[0m\n\u001b[1;33m    polygon23 = [shell=(0,0),(3,0),(3,3),(0,3)[, holes=[[(1, 1), (2, 1), (1.5, 2)]]]]\u001b[0m\n\u001b[1;37m                      ^\u001b[0m\n\u001b[1;31mSyntaxError\u001b[0m\u001b[1;31m:\u001b[0m invalid syntax\n"
     ]
    }
   ],
   "source": [
    "# create a polygon poly3 using poly1 boundary as exterier boundary \n",
    "# and poly2 boundary as a hole\n",
    "polygon23 = [shell=[(0,0),(3,0),(3,3),(0,3)], holes=[[(1, 1), (2, 1), (1.5, 2)]]]\n",
    "polygon23"
   ]
  },
  {
   "cell_type": "code",
   "execution_count": 22,
   "metadata": {},
   "outputs": [
    {
     "ename": "AttributeError",
     "evalue": "'list' object has no attribute 'centroid'",
     "output_type": "error",
     "traceback": [
      "\u001b[1;31m---------------------------------------------------------------------------\u001b[0m",
      "\u001b[1;31mAttributeError\u001b[0m                            Traceback (most recent call last)",
      "\u001b[1;32m<ipython-input-22-1367e0e1f2b4>\u001b[0m in \u001b[0;36m<module>\u001b[1;34m()\u001b[0m\n\u001b[0;32m      1\u001b[0m \u001b[1;31m# Get the centroid and area of the poly3.\u001b[0m\u001b[1;33m\u001b[0m\u001b[1;33m\u001b[0m\u001b[0m\n\u001b[0;32m      2\u001b[0m \u001b[1;31m# hint: .centroid, .area\u001b[0m\u001b[1;33m\u001b[0m\u001b[1;33m\u001b[0m\u001b[0m\n\u001b[1;32m----> 3\u001b[1;33m \u001b[0mpoly1\u001b[0m\u001b[1;33m.\u001b[0m\u001b[0mcentroid\u001b[0m\u001b[1;33m\u001b[0m\u001b[0m\n\u001b[0m\u001b[0;32m      4\u001b[0m \u001b[0mpoly1\u001b[0m\u001b[1;33m.\u001b[0m\u001b[0marea\u001b[0m\u001b[1;33m\u001b[0m\u001b[0m\n",
      "\u001b[1;31mAttributeError\u001b[0m: 'list' object has no attribute 'centroid'"
     ]
    }
   ],
   "source": [
    "# Get the centroid and area of the poly3.\n",
    "# hint: .centroid, .area\n",
    "poly1.centroid\n",
    "poly1.area"
   ]
  },
  {
   "cell_type": "markdown",
   "metadata": {},
   "source": [
    "## Task 4"
   ]
  },
  {
   "cell_type": "markdown",
   "metadata": {},
   "source": [
    "Buffer geometries and union the results."
   ]
  },
  {
   "cell_type": "code",
   "execution_count": 27,
   "metadata": {
    "collapsed": true
   },
   "outputs": [],
   "source": [
    "# Import necessary geometric objects from shapely module\n",
    "from shapely.ops import unary_union\n",
    "# Create a LineString from use coordinate tuples\n",
    "# [(2, 2), (4, 2), (2, 1), (4, 1)]\n",
    "line = LineString([(2, 2), (4, 2), (2, 1), (4, 1)])\n",
    "# Create another Polygon from the coordinates \n",
    "# [(1, 1), (6, 1), (3, 5)] \n",
    "poly = Polygon(shell=[(2, 2), (4, 2), (2, 1), (4, 1)])"
   ]
  },
  {
   "cell_type": "code",
   "execution_count": 28,
   "metadata": {
    "scrolled": true
   },
   "outputs": [
    {
     "data": {
      "image/svg+xml": [
       "<svg xmlns=\"http://www.w3.org/2000/svg\" xmlns:xlink=\"http://www.w3.org/1999/xlink\" width=\"100.0\" height=\"100.0\" viewBox=\"1.38 0.38 3.24 2.24\" preserveAspectRatio=\"xMinYMin meet\"><g transform=\"matrix(1,0,0,-1,0,3.0)\"><path fill-rule=\"evenodd\" fill=\"#66cc99\" stroke=\"#555555\" stroke-width=\"0.0648\" opacity=\"0.6\" d=\"M 1.90160598471,1.50981998673 L 1.85485766137,1.52152983213 L 1.80865828382,1.53806023374 L 1.76430163159,1.55903936783 L 1.72221488349,1.58426519385 L 1.68280335792,1.61349477332 L 1.64644660941,1.64644660941 L 1.61349477332,1.68280335792 L 1.58426519385,1.72221488349 L 1.55903936783,1.76430163159 L 1.53806023374,1.80865828382 L 1.52152983213,1.85485766137 L 1.5096073598,1.90245483899 L 1.50240763666,1.95099142984 L 1.5,2.0 L 1.50240763666,2.04900857016 L 1.5096073598,2.09754516101 L 1.52152983213,2.14514233863 L 1.53806023374,2.19134171618 L 1.55903936783,2.23569836841 L 1.58426519385,2.27778511651 L 1.61349477332,2.31719664208 L 1.64644660941,2.35355339059 L 1.68280335792,2.38650522668 L 1.72221488349,2.41573480615 L 1.76430163159,2.44096063217 L 1.80865828382,2.46193976626 L 1.85485766137,2.47847016787 L 1.90245483899,2.4903926402 L 1.95099142984,2.49759236334 L 2.0,2.5 L 4.0,2.5 L 4.04951030704,2.49754269113 L 4.09853396561,2.49019491799 L 4.14658911063,2.47802890356 L 4.19320339677,2.46116423048 L 4.23791864122,2.43976666558 L 4.28029532732,2.41404653057 L 4.31991692465,2.38425663471 L 4.35639398319,2.35068978991 L 4.38936796135,2.31367593258 L 4.41851475012,2.27357888064 L 4.44354785887,2.23079275746 L 4.46422123126,2.18573811792 L 4.48033166385,2.13885781468 L 4.49172080342,2.09061264529 L 4.49827670341,2.04147682286 L 4.49993492436,1.99193331498 L 4.49667916721,1.94246909645 L 4.48854143356,1.89357036271 L 4.47560171112,1.84571775094 L 4.45798718747,1.79938161572 L 4.43587099991,1.75501740585 L 4.40947053365,1.71306118758 L 4.37904528509,1.67392535847 L 4.34489431117,1.6379945938 L 4.30735328985,1.6056220655 L 4.26679122067,1.5771259708 L 4.22360679775,1.5527864045 L 4.09839401529,1.49018001327 L 4.14514233863,1.47847016787 L 4.19134171618,1.46193976626 L 4.23569836841,1.44096063217 L 4.27778511651,1.41573480615 L 4.31719664208,1.38650522668 L 4.35355339059,1.35355339059 L 4.38650522668,1.31719664208 L 4.41573480615,1.27778511651 L 4.44096063217,1.23569836841 L 4.46193976626,1.19134171618 L 4.47847016787,1.14514233863 L 4.4903926402,1.09754516101 L 4.49759236334,1.04900857016 L 4.5,1.0 L 4.49759236334,0.950991429835 L 4.4903926402,0.902454838992 L 4.47847016787,0.854857661373 L 4.46193976626,0.808658283817 L 4.44096063217,0.764301631587 L 4.41573480615,0.72221488349 L 4.38650522668,0.682803357918 L 4.35355339059,0.646446609407 L 4.31719664208,0.613494773319 L 4.27778511651,0.584265193849 L 4.23569836841,0.559039367826 L 4.19134171618,0.538060233744 L 4.14514233863,0.521529832134 L 4.09754516101,0.509607359798 L 4.04900857016,0.502407636664 L 4.0,0.5 L 2.0,0.5 L 1.95048969296,0.50245730887 L 1.90146603439,0.509805082013 L 1.85341088937,0.521971096435 L 1.80679660323,0.538835769517 L 1.76208135878,0.560233334415 L 1.71970467268,0.585953469426 L 1.68008307535,0.615743365286 L 1.64360601681,0.649310210092 L 1.61063203865,0.686324067425 L 1.58148524988,0.726421119362 L 1.55645214113,0.769207242541 L 1.53577876874,0.814261882079 L 1.51966833615,0.861142185316 L 1.50827919658,0.909387354712 L 1.50172329659,0.958523177135 L 1.50006507564,1.00806668502 L 1.50332083279,1.05753090355 L 1.51145856644,1.10642963729 L 1.52439828888,1.15428224906 L 1.54201281253,1.20061838428 L 1.56412900009,1.24498259415 L 1.59052946635,1.28693881242 L 1.62095471491,1.32607464153 L 1.65510568883,1.3620054062 L 1.69264671015,1.3943779345 L 1.73320877933,1.4228740292 L 1.77639320225,1.4472135955 L 1.90160598471,1.50981998673 z\" /></g></svg>"
      ],
      "text/plain": [
       "<shapely.geometry.polygon.Polygon at 0x512ed50>"
      ]
     },
     "execution_count": 28,
     "metadata": {},
     "output_type": "execute_result"
    }
   ],
   "source": [
    "# create a buffer with distance 0.5 around the linestring using .buffer()\n",
    "buffer1 = line.buffer(0.5)\n",
    "buffer1"
   ]
  },
  {
   "cell_type": "code",
   "execution_count": 42,
   "metadata": {},
   "outputs": [
    {
     "data": {
      "image/svg+xml": [
       "<svg xmlns=\"http://www.w3.org/2000/svg\" xmlns:xlink=\"http://www.w3.org/1999/xlink\" width=\"100.0\" height=\"100.0\" viewBox=\"0.894133535217 -0.00569593995233 4.21173292957 3.11168604845\" preserveAspectRatio=\"xMinYMin meet\"><g transform=\"matrix(1,0,0,-1,0,3.10029416855)\"><path fill-rule=\"evenodd\" fill=\"#66cc99\" stroke=\"#555555\" stroke-width=\"0.0842346585913\" opacity=\"0.6\" d=\"M 1.57514708428,1.15029416855 L 1.49309668074,1.19653934451 L 1.41602874929,1.25068192445 L 1.34470080877,1.31218972821 L 1.27981395832,1.3804581811 L 1.22200598606,1.45481625641 L 1.17184510017,1.53453307111 L 1.1298243438,1.61882506987 L 1.09635674886,1.70686372678 L 1.07177127623,1.79778368915 L 1.05630958231,1.89069128325 L 1.05012364372,1.98467329847 L 1.05327426351,2.07880596344 L 1.06573047351,2.17216402605 L 1.08736983868,2.2638298479 L 1.11797966061,2.35290242405 L 1.15725906816,2.43850623917 L 1.20482197477,2.51979987321 L 1.26020087344,2.59598427189 L 1.32285143194,2.66631060082 L 1.39215784316,2.73008760596 L 1.46743887808,2.78668840809 L 1.54795458168,2.83555666461 L 1.63291354614,2.87621203792 L 1.7214806898,2.90825491677 L 1.81278546534,2.93137034418 L 1.90593041663,2.94533111315 L 2.0,2.95 L 4.0,2.95 L 4.09406958337,2.94533111315 L 4.18721453466,2.93137034418 L 4.2785193102,2.90825491677 L 4.36708645386,2.87621203792 L 4.45204541832,2.83555666461 L 4.53256112192,2.78668840809 L 4.60784215684,2.73008760596 L 4.67714856806,2.66631060082 L 4.73979912656,2.59598427189 L 4.79517802523,2.51979987321 L 4.84274093184,2.43850623917 L 4.88202033939,2.35290242405 L 4.91263016132,2.2638298479 L 4.93426952649,2.17216402605 L 4.94672573649,2.07880596344 L 4.94987635628,1.98467329847 L 4.94369041769,1.89069128325 L 4.92822872377,1.79778368915 L 4.90364325114,1.70686372678 L 4.8701756562,1.61882506987 L 4.82815489983,1.53453307111 L 4.77799401394,1.45481625641 L 4.72018604168,1.3804581811 L 4.65529919123,1.31218972821 L 4.58397125071,1.25068192445 L 4.50690331926,1.19653934451 L 4.42485291572,1.15029416855 L 3.7322308105,0.803983115938 L 3.580392182,0.160784364 L 3.57514708428,0.15029416855 L 3.0,0.437867710688 L 2.42485291572,0.15029416855 L 2.419607818,0.160784364 L 2.2677691895,0.803983115938 L 1.57514708428,1.15029416855 z\" /></g></svg>"
      ],
      "text/plain": [
       "<shapely.geometry.polygon.Polygon at 0x5163170>"
      ]
     },
     "execution_count": 42,
     "metadata": {},
     "output_type": "execute_result"
    }
   ],
   "source": [
    "# create a buffer with distance -0.3 around the polygon using .buffer()\n",
    "buffer2 = poly.buffer(0.95)\n",
    "buffer2"
   ]
  },
  {
   "cell_type": "code",
   "execution_count": 43,
   "metadata": {
    "scrolled": false
   },
   "outputs": [
    {
     "data": {
      "image/svg+xml": [
       "<svg xmlns=\"http://www.w3.org/2000/svg\" xmlns:xlink=\"http://www.w3.org/1999/xlink\" width=\"100.0\" height=\"100.0\" viewBox=\"0.894133535217 -0.00569593995233 4.21173292957 3.11168604845\" preserveAspectRatio=\"xMinYMin meet\"><g transform=\"matrix(1,0,0,-1,0,3.10029416855)\"><path fill-rule=\"evenodd\" fill=\"#66cc99\" stroke=\"#555555\" stroke-width=\"0.0842346585913\" opacity=\"0.6\" d=\"M 4.467938009,1.17457775076 L 4.47847016787,1.14514233863 L 4.4903926402,1.09754516101 L 4.49759236334,1.04900857016 L 4.5,1.0 L 4.49759236334,0.950991429835 L 4.4903926402,0.902454838992 L 4.47847016787,0.854857661373 L 4.46193976626,0.808658283817 L 4.44096063217,0.764301631587 L 4.41573480615,0.72221488349 L 4.38650522668,0.682803357918 L 4.35355339059,0.646446609407 L 4.31719664208,0.613494773319 L 4.27778511651,0.584265193849 L 4.23569836841,0.559039367826 L 4.19134171618,0.538060233744 L 4.14514233863,0.521529832134 L 4.09754516101,0.509607359798 L 4.04900857016,0.502407636664 L 4.0,0.5 L 3.66047013113,0.5 L 3.580392182,0.160784364 L 3.57514708428,0.15029416855 L 3.0,0.437867710688 L 2.42485291572,0.15029416855 L 2.419607818,0.160784364 L 2.33952986887,0.5 L 2.0,0.5 L 1.95048969296,0.50245730887 L 1.90146603439,0.509805082013 L 1.85341088937,0.521971096435 L 1.80679660323,0.538835769517 L 1.76208135878,0.560233334415 L 1.71970467268,0.585953469426 L 1.68008307535,0.615743365286 L 1.64360601681,0.649310210092 L 1.61063203865,0.686324067425 L 1.58148524988,0.726421119362 L 1.55645214113,0.769207242541 L 1.53577876874,0.814261882079 L 1.51966833615,0.861142185316 L 1.50827919658,0.909387354712 L 1.50172329659,0.958523177135 L 1.50006507564,1.00806668502 L 1.50332083279,1.05753090355 L 1.51145856644,1.10642963729 L 1.52439828888,1.15428224906 L 1.53210445609,1.17455381662 L 1.49309668074,1.19653934451 L 1.41602874929,1.25068192445 L 1.34470080877,1.31218972821 L 1.27981395832,1.3804581811 L 1.22200598606,1.45481625641 L 1.17184510017,1.53453307111 L 1.1298243438,1.61882506987 L 1.09635674886,1.70686372678 L 1.07177127623,1.79778368915 L 1.05630958231,1.89069128325 L 1.05012364372,1.98467329847 L 1.05327426351,2.07880596344 L 1.06573047351,2.17216402605 L 1.08736983868,2.2638298479 L 1.11797966061,2.35290242405 L 1.15725906816,2.43850623917 L 1.20482197477,2.51979987321 L 1.26020087344,2.59598427189 L 1.32285143194,2.66631060082 L 1.39215784316,2.73008760596 L 1.46743887808,2.78668840809 L 1.54795458168,2.83555666461 L 1.63291354614,2.87621203792 L 1.7214806898,2.90825491677 L 1.81278546534,2.93137034418 L 1.90593041663,2.94533111315 L 2.0,2.95 L 4.0,2.95 L 4.09406958337,2.94533111315 L 4.18721453466,2.93137034418 L 4.2785193102,2.90825491677 L 4.36708645386,2.87621203792 L 4.45204541832,2.83555666461 L 4.53256112192,2.78668840809 L 4.60784215684,2.73008760596 L 4.67714856806,2.66631060082 L 4.73979912656,2.59598427189 L 4.79517802523,2.51979987321 L 4.84274093184,2.43850623917 L 4.88202033939,2.35290242405 L 4.91263016132,2.2638298479 L 4.93426952649,2.17216402605 L 4.94672573649,2.07880596344 L 4.94987635628,1.98467329847 L 4.94369041769,1.89069128325 L 4.92822872377,1.79778368915 L 4.90364325114,1.70686372678 L 4.8701756562,1.61882506987 L 4.82815489983,1.53453307111 L 4.77799401394,1.45481625641 L 4.72018604168,1.3804581811 L 4.65529919123,1.31218972821 L 4.58397125071,1.25068192445 L 4.50690331926,1.19653934451 L 4.467938009,1.17457775076 z\" /></g></svg>"
      ],
      "text/plain": [
       "<shapely.geometry.polygon.Polygon at 0x5163e10>"
      ]
     },
     "execution_count": 43,
     "metadata": {},
     "output_type": "execute_result"
    }
   ],
   "source": [
    "# union the two buffers into one geometry using\n",
    "# shapely.ops.cascaded_union([geoms])\n",
    "from shapely.ops import unary_union \n",
    "union2 = unary_union([buffer1,buffer2])\n",
    "union2"
   ]
  },
  {
   "cell_type": "code",
   "execution_count": null,
   "metadata": {
    "collapsed": true
   },
   "outputs": [],
   "source": []
  }
 ],
 "metadata": {
  "kernelspec": {
   "display_name": "Python 2",
   "language": "python",
   "name": "python2"
  },
  "language_info": {
   "codemirror_mode": {
    "name": "ipython",
    "version": 2
   },
   "file_extension": ".py",
   "mimetype": "text/x-python",
   "name": "python",
   "nbconvert_exporter": "python",
   "pygments_lexer": "ipython2",
   "version": "2.7.14"
  },
  "toc": {
   "nav_menu": {},
   "number_sections": false,
   "sideBar": false,
   "skip_h1_title": true,
   "toc_cell": false,
   "toc_position": {
    "height": "326px",
    "left": "791px",
    "right": "20px",
    "top": "110.5px",
    "width": "144px"
   },
   "toc_section_display": "none",
   "toc_window_display": true
  }
 },
 "nbformat": 4,
 "nbformat_minor": 2
}
